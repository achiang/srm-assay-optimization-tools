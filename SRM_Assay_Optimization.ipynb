{
 "cells": [
  {
   "cell_type": "code",
   "execution_count": 2,
   "metadata": {},
   "outputs": [
    {
     "data": {
      "application/vnd.jupyter.widget-view+json": {
       "model_id": "ab3aaa640ac64ca796006e389a6b05e7",
       "version_major": 2,
       "version_minor": 0
      },
      "text/html": [
       "<p>Failed to display Jupyter Widget of type <code>VBox</code>.</p>\n",
       "<p>\n",
       "  If you're reading this message in the Jupyter Notebook or JupyterLab Notebook, it may mean\n",
       "  that the widgets JavaScript is still loading. If this message persists, it\n",
       "  likely means that the widgets JavaScript library is either not installed or\n",
       "  not enabled. See the <a href=\"https://ipywidgets.readthedocs.io/en/stable/user_install.html\">Jupyter\n",
       "  Widgets Documentation</a> for setup instructions.\n",
       "</p>\n",
       "<p>\n",
       "  If you're reading this message in another frontend (for example, a static\n",
       "  rendering on GitHub or <a href=\"https://nbviewer.jupyter.org/\">NBViewer</a>),\n",
       "  it may mean that your frontend doesn't currently support widgets.\n",
       "</p>\n"
      ],
      "text/plain": [
       "VBox(children=(Select(description='MaxQuant Evidence File:', layout=Layout(width='90%'), options=('SRMassay_optimization.xlsx', 'SRM_Assay_Optimization.ipynb', '20180315_MOR_APEX_SRM_opt_trans.csv', 'MOR_APEX_evidence_IntRT_summary.txt'), style=DescriptionStyle(description_width='initial'), value='SRMassay_optimization.xlsx'), Button(description='Convert to Skyline', style=ButtonStyle()), Output()))"
      ]
     },
     "metadata": {},
     "output_type": "display_data"
    }
   ],
   "source": [
    "from IPython.display import display\n",
    "import ipywidgets as widgets\n",
    "from os import path, getcwd\n",
    "from lib import maxquant, util\n",
    "\n",
    "select = widgets.Select(\n",
    "    options=util.get_filtered_cwd(),\n",
    "    description='MaxQuant Evidence File:',\n",
    "    style={'description_width': 'initial'},\n",
    "    layout=widgets.Layout(width='90%'))\n",
    "button = widgets.Button(description=\"Convert to Skyline\")\n",
    "\n",
    "# https://github.com/jupyterlab/jupyterlab/issues/1254\n",
    "out = widgets.Output()\n",
    "    \n",
    "def on_button_clicked(b):\n",
    "    out.clear_output()\n",
    "    maxquant.to_skyline(path.join(getcwd(), select.value), out=out)\n",
    "\n",
    "button.on_click(on_button_clicked)\n",
    "widgets.VBox([select, button, out])"
   ]
  },
  {
   "cell_type": "code",
   "execution_count": 1,
   "metadata": {},
   "outputs": [
    {
     "data": {
      "application/vnd.jupyter.widget-view+json": {
       "model_id": "3a85d91db7984abfad2ca64d846aecab",
       "version_major": 2,
       "version_minor": 0
      },
      "text/html": [
       "<p>Failed to display Jupyter Widget of type <code>VBox</code>.</p>\n",
       "<p>\n",
       "  If you're reading this message in the Jupyter Notebook or JupyterLab Notebook, it may mean\n",
       "  that the widgets JavaScript is still loading. If this message persists, it\n",
       "  likely means that the widgets JavaScript library is either not installed or\n",
       "  not enabled. See the <a href=\"https://ipywidgets.readthedocs.io/en/stable/user_install.html\">Jupyter\n",
       "  Widgets Documentation</a> for setup instructions.\n",
       "</p>\n",
       "<p>\n",
       "  If you're reading this message in another frontend (for example, a static\n",
       "  rendering on GitHub or <a href=\"https://nbviewer.jupyter.org/\">NBViewer</a>),\n",
       "  it may mean that your frontend doesn't currently support widgets.\n",
       "</p>\n"
      ],
      "text/plain": [
       "VBox(children=(Select(description='Transition File:', layout=Layout(width='90%'), options=('MOR_APEX_evidence_IntRT_summary.txt', 'SRM_transition_optimization.csv'), style=DescriptionStyle(description_width='initial'), value='MOR_APEX_evidence_IntRT_summary.txt'), IntText(value=0, description='Number of Methods:', layout=Layout(width='90%'), style=DescriptionStyle(description_width='initial')), FloatText(value=0.0, description='RT Window:', layout=Layout(width='90%'), style=DescriptionStyle(description_width='initial')), Button(description='Split Into Method Files', style=ButtonStyle()), Output()))"
      ]
     },
     "metadata": {},
     "output_type": "display_data"
    }
   ],
   "source": [
    "from IPython.display import display\n",
    "import ipywidgets as widgets\n",
    "from os import path, getcwd\n",
    "from lib import transitions, util\n",
    "\n",
    "# TODO: Fix description layouts. Perhaps with a Label widget?\n",
    "select = widgets.Select(\n",
    "    options=util.get_filtered_cwd(),\n",
    "    description='Transition File:',\n",
    "    style={'description_width': 'initial'},\n",
    "    layout=widgets.Layout(width='90%'))\n",
    "text_num_methods = widgets.IntText(\n",
    "    description='Number of Methods:',\n",
    "    style={'description_width': 'initial'},\n",
    "    layout=widgets.Layout(width='90%'))\n",
    "text_rt_window = widgets.FloatText(\n",
    "    description='RT Window:',\n",
    "    style={'description_width': 'initial'},\n",
    "    layout=widgets.Layout(width='90%'))  \n",
    "button = widgets.Button(description=\"Split Into Methods\")\n",
    "\n",
    "# https://github.com/jupyterlab/jupyterlab/issues/1254\n",
    "out = widgets.Output()\n",
    "    \n",
    "def on_button_clicked(b):\n",
    "    out.clear_output()\n",
    "    transitions.split_to_quantiva(\n",
    "        path.join(getcwd(), select.value),\n",
    "        text_num_methods.value,\n",
    "        text_rt_window.value,\n",
    "        out=out)\n",
    "\n",
    "button.on_click(on_button_clicked)\n",
    "widgets.VBox([select, text_num_methods, text_rt_window, button, out])"
   ]
  },
  {
   "cell_type": "code",
   "execution_count": null,
   "metadata": {},
   "outputs": [],
   "source": []
  }
 ],
 "metadata": {
  "kernelspec": {
   "display_name": "Python 3",
   "language": "python",
   "name": "python3"
  },
  "language_info": {
   "codemirror_mode": {
    "name": "ipython",
    "version": 3
   },
   "file_extension": ".py",
   "mimetype": "text/x-python",
   "name": "python",
   "nbconvert_exporter": "python",
   "pygments_lexer": "ipython3",
   "version": "3.6.4"
  }
 },
 "nbformat": 4,
 "nbformat_minor": 2
}
